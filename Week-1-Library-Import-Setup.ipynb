{
 "cells": [
  {
   "cell_type": "code",
   "execution_count": null,
   "id": "c8798784-6352-416a-b107-8e589b62b5b9",
   "metadata": {},
   "outputs": [],
   "source": [
    "import os\n",
    "import sys\n",
    "import torch\n",
    "import torch.nn as nn\n",
    "import torch.optim as optim\n",
    "from torch.optim.lr_scheduler import ReduceLROnPlateau\n",
    "from torch.utils.data import DataLoader\n",
    "import matplotlib.pyplot as plt\n",
    "from tqdm.notebook import tqdm\n",
    "\n",
    "# Add the absolute path to src directory\n",
    "notebook_dir = os.path.dirname(os.path.abspath(''))\n",
    "src_dir = os.path.join(notebook_dir, 'src')\n",
    "sys.path.append(src_dir)\n",
    "\n",
    "# Import our modules\n",
    "from model import PlasticWasteCNN\n",
    "from dataset import PlasticWasteDataset\n",
    "from utils import AverageMeter, plot_training_curves, plot_confusion_matrix, get_classification_metrics"
   ]
  }
 ],
 "metadata": {
  "kernelspec": {
   "display_name": "Python 3 (ipykernel)",
   "language": "python",
   "name": "python3"
  },
  "language_info": {
   "codemirror_mode": {
    "name": "ipython",
    "version": 3
   },
   "file_extension": ".py",
   "mimetype": "text/x-python",
   "name": "python",
   "nbconvert_exporter": "python",
   "pygments_lexer": "ipython3",
   "version": "3.12.7"
  }
 },
 "nbformat": 4,
 "nbformat_minor": 5
}
